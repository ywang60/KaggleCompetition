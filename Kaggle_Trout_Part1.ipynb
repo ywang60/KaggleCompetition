{
 "cells": [
  {
   "cell_type": "markdown",
   "metadata": {},
   "source": [
    "**SI 670 Fall 2020 Kaggle Competition**\n",
    "\n",
    "Please form teams of up to 4 students.  You should not collaborate with other teams, but you can talk to the GSIs if you are really stuck.  Please record you teams here:  https://docs.google.com/spreadsheets/d/1TDm_bwdSnENU8AMzxjvgqP2Fo3Poi3nRGr8dP1iIbqs/edit?usp=drive_web&ouid=109090332886082450282\n",
    "\n",
    "For those who filled out the team survey and asked to be assigned to a team, you should find your name and your team members in the Google Sheet above. Please feel free to let us know if we missed you.\n",
    "\n",
    "Give your team a fun and exciting name for the competition.  You only need one submission for the team.  Everyone on the team will get the same score.  \n",
    "\n",
    "\n",
    "**Scoring**\n",
    "\n",
    "There are two tasks, but they will be scored together.  It will be scored out of 100 points.  \n",
    "You shall receive 40 points for a successful submission.  \n",
    "You shall receive 20 additional points for attaining benchmark #1.\n",
    "You shall receive 10 additional points for attaining benchmark #2.\n",
    "You shall receive 30 * 2 / log2(2 + rank) additional “ranking points”.\n",
    "The top five teams after the first evaluation will receive an additional 5 points.  \n",
    "\n",
    "Note that, if you attain both benchmarks, you are guaranteed a score of 82.  The winning team will receive 108 points. \n",
    "\n",
    "The competition shall start Tuesday 10/20.\n",
    "\n",
    "First evaluation is Monday 10/26 at 11:59pm  (only used for 5 bonus points)\n",
    "\n",
    "Final evaluation is Monday 11/2 at 11:59 pm   \n",
    "\n",
    "**Context**\n",
    "\n",
    "Lake monitoring provides important information for environment protection and pollution identification, such as temperature/thermal monitoring. In this Kaggle task, we will provide thermal sensor data for multiple lakes and ask you to predict/estimate the temperature at a certain depth for certain lakes.\n",
    "\n",
    "Content\n",
    "We provide Lake Trout’s data during the period of Apr 20th, 2012 - Apr 19th, 2018.\n",
    "\n",
    "For your reference, we also provide the data of six other lakes (ie., Bear Head, Carlos, Elk, Pearl, Shaokotan, White Iron). Please note that these datasets may vary in terms of the time window (yes, this is how real-world datasets look like!)\n",
    "\n",
    "For each lake, there will be multiple sensors at different depths, and we will provide lake_id, time, depth and the corresponding temperature at this depth and time point. For example, for the Shaokotan Lake, you will see the following columns, with LakeId representing the lake identifier, Date_time representing the time stamp, Depth_m representing the depth in meters, and Water_Temp_C representing the temperature in Celsius.  Please note that the number of sensors are different across different lakes. \n",
    "\n",
    "\n",
    "**Task**\n",
    "\n",
    "Predicting/estimating the temperature of Trout Lake at depth 10.5 m during Apr 20th, 2018 - Apr 19th, 2019. Please feel free to use part of/all the data we provide. \n",
    "\n",
    "Benchmark 1:  MSE < 0.065\n",
    "Benchmark 2:  MSE < 0.032\n",
    "\n",
    "Files for first task\n",
    "For the first task, we will provide you a file Trout_training.csv under the Trout folder which contains all the sensors in the Trout Lake as training. Besides, we will give you another Trout_testing_features.csv under the Trout folder which contains all other sensors’ temperature (except the depth 10.5’s temperature). \n",
    "\n",
    "We hope you return a file named Trout_prediction.csv, the dataset you return and upload should have two columns: Date_Time and Water_Temp_C, with a shape of 8,760 * 2. (Reason for 8,760: 8,760 =  365 days * 24 sensorings/day) You are supposed to predict every hour’s temperature of depth-10.5 sensor during  Apr 20th, 2018 - Apr 19th, 2019. \n",
    "\n",
    "**Link** \n",
    "https://www.kaggle.com/c/si670fall2020/overview\n"
   ]
  },
  {
   "cell_type": "markdown",
   "metadata": {},
   "source": [
    "## Task 1"
   ]
  },
  {
   "cell_type": "code",
   "execution_count": 40,
   "metadata": {},
   "outputs": [
    {
     "data": {
      "text/html": [
       "<div>\n",
       "<style scoped>\n",
       "    .dataframe tbody tr th:only-of-type {\n",
       "        vertical-align: middle;\n",
       "    }\n",
       "\n",
       "    .dataframe tbody tr th {\n",
       "        vertical-align: top;\n",
       "    }\n",
       "\n",
       "    .dataframe thead th {\n",
       "        text-align: right;\n",
       "    }\n",
       "</style>\n",
       "<table border=\"1\" class=\"dataframe\">\n",
       "  <thead>\n",
       "    <tr style=\"text-align: right;\">\n",
       "      <th></th>\n",
       "      <th>Date_Time</th>\n",
       "      <th>Water_Temp_C</th>\n",
       "      <th>Depth_m</th>\n",
       "    </tr>\n",
       "  </thead>\n",
       "  <tbody>\n",
       "    <tr>\n",
       "      <th>0</th>\n",
       "      <td>2012-04-20 00:00:00</td>\n",
       "      <td>5.257</td>\n",
       "      <td>1.5</td>\n",
       "    </tr>\n",
       "    <tr>\n",
       "      <th>1</th>\n",
       "      <td>2012-04-20 00:00:00</td>\n",
       "      <td>5.257</td>\n",
       "      <td>2.5</td>\n",
       "    </tr>\n",
       "    <tr>\n",
       "      <th>2</th>\n",
       "      <td>2012-04-20 00:00:00</td>\n",
       "      <td>5.257</td>\n",
       "      <td>3.5</td>\n",
       "    </tr>\n",
       "    <tr>\n",
       "      <th>3</th>\n",
       "      <td>2012-04-20 00:00:00</td>\n",
       "      <td>5.205</td>\n",
       "      <td>4.5</td>\n",
       "    </tr>\n",
       "    <tr>\n",
       "      <th>4</th>\n",
       "      <td>2012-04-20 00:00:00</td>\n",
       "      <td>5.205</td>\n",
       "      <td>5.5</td>\n",
       "    </tr>\n",
       "    <tr>\n",
       "      <th>5</th>\n",
       "      <td>2012-04-20 00:00:00</td>\n",
       "      <td>5.154</td>\n",
       "      <td>6.5</td>\n",
       "    </tr>\n",
       "    <tr>\n",
       "      <th>6</th>\n",
       "      <td>2012-04-20 00:00:00</td>\n",
       "      <td>5.231</td>\n",
       "      <td>7.5</td>\n",
       "    </tr>\n",
       "    <tr>\n",
       "      <th>7</th>\n",
       "      <td>2012-04-20 00:00:00</td>\n",
       "      <td>5.128</td>\n",
       "      <td>8.5</td>\n",
       "    </tr>\n",
       "    <tr>\n",
       "      <th>8</th>\n",
       "      <td>2012-04-20 00:00:00</td>\n",
       "      <td>5.102</td>\n",
       "      <td>9.5</td>\n",
       "    </tr>\n",
       "    <tr>\n",
       "      <th>9</th>\n",
       "      <td>2012-04-20 00:00:00</td>\n",
       "      <td>5.076</td>\n",
       "      <td>10.5</td>\n",
       "    </tr>\n",
       "  </tbody>\n",
       "</table>\n",
       "</div>"
      ],
      "text/plain": [
       "             Date_Time  Water_Temp_C  Depth_m\n",
       "0  2012-04-20 00:00:00         5.257      1.5\n",
       "1  2012-04-20 00:00:00         5.257      2.5\n",
       "2  2012-04-20 00:00:00         5.257      3.5\n",
       "3  2012-04-20 00:00:00         5.205      4.5\n",
       "4  2012-04-20 00:00:00         5.205      5.5\n",
       "5  2012-04-20 00:00:00         5.154      6.5\n",
       "6  2012-04-20 00:00:00         5.231      7.5\n",
       "7  2012-04-20 00:00:00         5.128      8.5\n",
       "8  2012-04-20 00:00:00         5.102      9.5\n",
       "9  2012-04-20 00:00:00         5.076     10.5"
      ]
     },
     "execution_count": 40,
     "metadata": {},
     "output_type": "execute_result"
    }
   ],
   "source": [
    "import pandas as pd\n",
    "import numpy as py\n",
    "\n",
    "df_trout = pd.read_csv('Trout_training.csv')\n",
    "df_trout.head(10)"
   ]
  },
  {
   "cell_type": "code",
   "execution_count": 41,
   "metadata": {},
   "outputs": [],
   "source": [
    "df_trout_105 = df_trout[df_trout['Depth_m']==10.5]"
   ]
  },
  {
   "cell_type": "code",
   "execution_count": 2,
   "metadata": {},
   "outputs": [
    {
     "name": "stdout",
     "output_type": "stream",
     "text": [
      "False\n",
      "False\n",
      "False\n"
     ]
    }
   ],
   "source": [
    "#Check if there's any missing values\n",
    "for c in df_trout.columns:\n",
    "    print(df_trout[c].isnull().values.any())"
   ]
  },
  {
   "cell_type": "markdown",
   "metadata": {},
   "source": [
    "**Comments:**\n",
    "\n",
    "No missing values at all"
   ]
  },
  {
   "cell_type": "code",
   "execution_count": 3,
   "metadata": {},
   "outputs": [
    {
     "name": "stdout",
     "output_type": "stream",
     "text": [
      "Date_Time :\n",
      "['2012-04-20 00:00:00' '2012-04-20 01:00:00' '2012-04-20 02:00:00' ...\n",
      " '2018-04-19 21:00:00' '2018-04-19 22:00:00' '2018-04-19 23:00:00']\n",
      "Water_Temp_C :\n",
      "[5.257 5.205 5.154 ... 0.439 0.356 0.273]\n",
      "Depth_m :\n",
      "[ 1.5  2.5  3.5  4.5  5.5  6.5  7.5  8.5  9.5 10.5 11.5 12.5 14.5 16.5\n",
      " 18.5 20.5]\n"
     ]
    },
    {
     "data": {
      "text/html": [
       "<div>\n",
       "<style scoped>\n",
       "    .dataframe tbody tr th:only-of-type {\n",
       "        vertical-align: middle;\n",
       "    }\n",
       "\n",
       "    .dataframe tbody tr th {\n",
       "        vertical-align: top;\n",
       "    }\n",
       "\n",
       "    .dataframe thead th {\n",
       "        text-align: right;\n",
       "    }\n",
       "</style>\n",
       "<table border=\"1\" class=\"dataframe\">\n",
       "  <thead>\n",
       "    <tr style=\"text-align: right;\">\n",
       "      <th></th>\n",
       "      <th>Water_Temp_C</th>\n",
       "      <th>Depth_m</th>\n",
       "    </tr>\n",
       "  </thead>\n",
       "  <tbody>\n",
       "    <tr>\n",
       "      <th>count</th>\n",
       "      <td>839215.000000</td>\n",
       "      <td>839215.000000</td>\n",
       "    </tr>\n",
       "    <tr>\n",
       "      <th>mean</th>\n",
       "      <td>6.336614</td>\n",
       "      <td>9.628875</td>\n",
       "    </tr>\n",
       "    <tr>\n",
       "      <th>std</th>\n",
       "      <td>5.591335</td>\n",
       "      <td>5.557104</td>\n",
       "    </tr>\n",
       "    <tr>\n",
       "      <th>min</th>\n",
       "      <td>0.273000</td>\n",
       "      <td>1.500000</td>\n",
       "    </tr>\n",
       "    <tr>\n",
       "      <th>25%</th>\n",
       "      <td>1.994000</td>\n",
       "      <td>4.500000</td>\n",
       "    </tr>\n",
       "    <tr>\n",
       "      <th>50%</th>\n",
       "      <td>5.050000</td>\n",
       "      <td>9.500000</td>\n",
       "    </tr>\n",
       "    <tr>\n",
       "      <th>75%</th>\n",
       "      <td>8.245000</td>\n",
       "      <td>14.500000</td>\n",
       "    </tr>\n",
       "    <tr>\n",
       "      <th>max</th>\n",
       "      <td>25.768000</td>\n",
       "      <td>20.500000</td>\n",
       "    </tr>\n",
       "  </tbody>\n",
       "</table>\n",
       "</div>"
      ],
      "text/plain": [
       "        Water_Temp_C        Depth_m\n",
       "count  839215.000000  839215.000000\n",
       "mean        6.336614       9.628875\n",
       "std         5.591335       5.557104\n",
       "min         0.273000       1.500000\n",
       "25%         1.994000       4.500000\n",
       "50%         5.050000       9.500000\n",
       "75%         8.245000      14.500000\n",
       "max        25.768000      20.500000"
      ]
     },
     "execution_count": 3,
     "metadata": {},
     "output_type": "execute_result"
    }
   ],
   "source": [
    "#Check for outliers/anomalies\n",
    "for c in df_trout.columns:\n",
    "    print(c,':')\n",
    "    print(df_trout[c].unique())\n",
    "\n",
    "df_trout.describe()"
   ]
  },
  {
   "cell_type": "markdown",
   "metadata": {},
   "source": [
    "**Comments:**\n",
    "\n",
    "Doesn't seem like there are any outliers or values that doesn't belong"
   ]
  },
  {
   "cell_type": "code",
   "execution_count": 4,
   "metadata": {},
   "outputs": [
    {
     "data": {
      "image/png": "[encoded data removed]",
      "text/plain": [
       "<Figure size 432x288 with 1 Axes>"
      ]
     },
     "metadata": {
      "needs_background": "light"
     },
     "output_type": "display_data"
    }
   ],
   "source": [
    "import seaborn as sns\n",
    "\n",
    "#Examine depth vs temp\n",
    "ax = sns.boxplot(x=\"Depth_m\", y=\"Water_Temp_C\", data=df_trout)\n"
   ]
  },
  {
   "cell_type": "markdown",
   "metadata": {},
   "source": [
    "**Comments:**\n",
    "\n",
    "It seems like the water temperature slightly goes down in general as the depth increases. But the variance in temperature varies greatly when the depth increases. Need to be aware of the issue of heteroskedasticity when fitting a regression line(possible solution: Generalized Linear Method). Reminder to check residues."
   ]
  },
  {
   "cell_type": "code",
   "execution_count": 27,
   "metadata": {},
   "outputs": [],
   "source": [
    "#Extract Year out of Date_Time\n",
    "year = pd.DatetimeIndex(df_trout_105['Date_Time']).year\n",
    "df_trout_105['Year'] = year\n",
    "\n",
    "#Extract Month out of Date_Time\n",
    "month = pd.DatetimeIndex(df_trout_105['Date_Time']).month\n",
    "df_trout_105['Month'] = month\n",
    "\n",
    "#Extract Hour out of Date_Time\n",
    "hour = pd.DatetimeIndex(df_trout_105['Date_Time']).hour\n",
    "df_trout_105['Hour'] = hour\n",
    "\n",
    "#Extract Weekday out of Date_Time\n",
    "weekdays = pd.DatetimeIndex(df_trout_105['Date_Time']).weekday #Monday 0, Sunday 6\n",
    "df_trout_105['Weekday'] = weekdays\n"
   ]
  },
  {
   "cell_type": "code",
   "execution_count": 7,
   "metadata": {},
   "outputs": [
    {
     "data": {
      "image/png": "[encoded data removed]",
      "text/plain": [
       "<Figure size 432x288 with 1 Axes>"
      ]
     },
     "metadata": {
      "needs_background": "light"
     },
     "output_type": "display_data"
    }
   ],
   "source": [
    "#Examine relationship between year and water temperature\n",
    "ax = sns.boxplot(x=\"Year\", y=\"Water_Temp_C\", data=df_trout_105)\n"
   ]
  },
  {
   "cell_type": "code",
   "execution_count": 8,
   "metadata": {},
   "outputs": [
    {
     "data": {
      "image/png": "[encoded data removed]",
      "text/plain": [
       "<Figure size 432x288 with 1 Axes>"
      ]
     },
     "metadata": {
      "needs_background": "light"
     },
     "output_type": "display_data"
    }
   ],
   "source": [
    "#Examine relationship between month and water temperature\n",
    "ax = sns.boxplot(x=\"Month\", y=\"Water_Temp_C\", data=df_trout_105)\n"
   ]
  },
  {
   "cell_type": "code",
   "execution_count": 9,
   "metadata": {},
   "outputs": [
    {
     "data": {
      "image/png": "[encoded data removed]",
      "text/plain": [
       "<Figure size 432x288 with 1 Axes>"
      ]
     },
     "metadata": {
      "needs_background": "light"
     },
     "output_type": "display_data"
    }
   ],
   "source": [
    "#Examine relationship between hour and water temperature\n",
    "ax = sns.boxplot(x=\"Hour\", y=\"Water_Temp_C\", data=df_trout_105)\n"
   ]
  },
  {
   "cell_type": "code",
   "execution_count": 10,
   "metadata": {},
   "outputs": [
    {
     "data": {
      "image/png": "[encoded data removed]",
      "text/plain": [
       "<Figure size 432x288 with 1 Axes>"
      ]
     },
     "metadata": {
      "needs_background": "light"
     },
     "output_type": "display_data"
    }
   ],
   "source": [
    "#Examine relationship between weekday and water temperature\n",
    "\n",
    "ax = sns.boxplot(x=\"Weekday\", y=\"Water_Temp_C\", data=df_trout_105)"
   ]
  },
  {
   "cell_type": "markdown",
   "metadata": {},
   "source": [
    "**Comments:** \n",
    "\n",
    "Weekday and Hour doesn't show any correlation with the water temperature. Month has strong correlation as we can see the temperature raises up during the summer and goes down in winter. There are also some notable differences between the years."
   ]
  },
  {
   "cell_type": "code",
   "execution_count": 7,
   "metadata": {},
   "outputs": [
    {
     "data": {
      "text/html": [
       "<table class=\"simpletable\">\n",
       "<caption>OLS Regression Results</caption>\n",
       "<tr>\n",
       "  <th>Dep. Variable:</th>      <td>Water_Temp_C</td>   <th>  R-squared:         </th>  <td>   0.199</td>  \n",
       "</tr>\n",
       "<tr>\n",
       "  <th>Model:</th>                   <td>OLS</td>       <th>  Adj. R-squared:    </th>  <td>   0.199</td>  \n",
       "</tr>\n",
       "<tr>\n",
       "  <th>Method:</th>             <td>Least Squares</td>  <th>  F-statistic:       </th>  <td>   3271.</td>  \n",
       "</tr>\n",
       "<tr>\n",
       "  <th>Date:</th>             <td>Mon, 26 Oct 2020</td> <th>  Prob (F-statistic):</th>   <td>  0.00</td>   \n",
       "</tr>\n",
       "<tr>\n",
       "  <th>Time:</th>                 <td>23:05:18</td>     <th>  Log-Likelihood:    </th> <td>-1.2822e+05</td>\n",
       "</tr>\n",
       "<tr>\n",
       "  <th>No. Observations:</th>      <td> 52508</td>      <th>  AIC:               </th>  <td>2.565e+05</td> \n",
       "</tr>\n",
       "<tr>\n",
       "  <th>Df Residuals:</th>          <td> 52503</td>      <th>  BIC:               </th>  <td>2.565e+05</td> \n",
       "</tr>\n",
       "<tr>\n",
       "  <th>Df Model:</th>              <td>     4</td>      <th>                     </th>      <td> </td>     \n",
       "</tr>\n",
       "<tr>\n",
       "  <th>Covariance Type:</th>      <td>nonrobust</td>    <th>                     </th>      <td> </td>     \n",
       "</tr>\n",
       "</table>\n",
       "<table class=\"simpletable\">\n",
       "<tr>\n",
       "      <td></td>         <th>coef</th>     <th>std err</th>      <th>t</th>      <th>P>|t|</th>  <th>[0.025</th>    <th>0.975]</th>  \n",
       "</tr>\n",
       "<tr>\n",
       "  <th>Intercept</th> <td>  295.5903</td> <td>   14.138</td> <td>   20.908</td> <td> 0.000</td> <td>  267.880</td> <td>  323.301</td>\n",
       "</tr>\n",
       "<tr>\n",
       "  <th>Year</th>      <td>   -0.1454</td> <td>    0.007</td> <td>  -20.732</td> <td> 0.000</td> <td>   -0.159</td> <td>   -0.132</td>\n",
       "</tr>\n",
       "<tr>\n",
       "  <th>Month</th>     <td>    0.3810</td> <td>    0.004</td> <td>  105.856</td> <td> 0.000</td> <td>    0.374</td> <td>    0.388</td>\n",
       "</tr>\n",
       "<tr>\n",
       "  <th>Hour</th>      <td> 1.758e-05</td> <td>    0.002</td> <td>    0.010</td> <td> 0.992</td> <td>   -0.003</td> <td>    0.003</td>\n",
       "</tr>\n",
       "<tr>\n",
       "  <th>Weekday</th>   <td>   -0.0021</td> <td>    0.006</td> <td>   -0.342</td> <td> 0.732</td> <td>   -0.014</td> <td>    0.010</td>\n",
       "</tr>\n",
       "</table>\n",
       "<table class=\"simpletable\">\n",
       "<tr>\n",
       "  <th>Omnibus:</th>       <td>1511.909</td> <th>  Durbin-Watson:     </th> <td>   0.002</td> \n",
       "</tr>\n",
       "<tr>\n",
       "  <th>Prob(Omnibus):</th>  <td> 0.000</td>  <th>  Jarque-Bera (JB):  </th> <td>1317.407</td> \n",
       "</tr>\n",
       "<tr>\n",
       "  <th>Skew:</th>           <td>-0.327</td>  <th>  Prob(JB):          </th> <td>8.49e-287</td>\n",
       "</tr>\n",
       "<tr>\n",
       "  <th>Kurtosis:</th>       <td> 2.583</td>  <th>  Cond. No.          </th> <td>2.35e+06</td> \n",
       "</tr>\n",
       "</table><br/><br/>Notes:<br/>[1] Standard Errors assume that the covariance matrix of the errors is correctly specified.<br/>[2] The condition number is large, 2.35e+06. This might indicate that there are<br/>strong multicollinearity or other numerical problems."
      ],
      "text/plain": [
       "<class 'statsmodels.iolib.summary.Summary'>\n",
       "\"\"\"\n",
       "                            OLS Regression Results                            \n",
       "==============================================================================\n",
       "Dep. Variable:           Water_Temp_C   R-squared:                       0.199\n",
       "Model:                            OLS   Adj. R-squared:                  0.199\n",
       "Method:                 Least Squares   F-statistic:                     3271.\n",
       "Date:                Mon, 26 Oct 2020   Prob (F-statistic):               0.00\n",
       "Time:                        23:05:18   Log-Likelihood:            -1.2822e+05\n",
       "No. Observations:               52508   AIC:                         2.565e+05\n",
       "Df Residuals:                   52503   BIC:                         2.565e+05\n",
       "Df Model:                           4                                         \n",
       "Covariance Type:            nonrobust                                         \n",
       "==============================================================================\n",
       "                 coef    std err          t      P>|t|      [0.025      0.975]\n",
       "------------------------------------------------------------------------------\n",
       "Intercept    295.5903     14.138     20.908      0.000     267.880     323.301\n",
       "Year          -0.1454      0.007    -20.732      0.000      -0.159      -0.132\n",
       "Month          0.3810      0.004    105.856      0.000       0.374       0.388\n",
       "Hour        1.758e-05      0.002      0.010      0.992      -0.003       0.003\n",
       "Weekday       -0.0021      0.006     -0.342      0.732      -0.014       0.010\n",
       "==============================================================================\n",
       "Omnibus:                     1511.909   Durbin-Watson:                   0.002\n",
       "Prob(Omnibus):                  0.000   Jarque-Bera (JB):             1317.407\n",
       "Skew:                          -0.327   Prob(JB):                    8.49e-287\n",
       "Kurtosis:                       2.583   Cond. No.                     2.35e+06\n",
       "==============================================================================\n",
       "\n",
       "Notes:\n",
       "[1] Standard Errors assume that the covariance matrix of the errors is correctly specified.\n",
       "[2] The condition number is large, 2.35e+06. This might indicate that there are\n",
       "strong multicollinearity or other numerical problems.\n",
       "\"\"\""
      ]
     },
     "execution_count": 7,
     "metadata": {},
     "output_type": "execute_result"
    }
   ],
   "source": [
    "#Training the Model\n",
    "\n",
    "# Run a linear regression to see the fit\n",
    "import statsmodels.formula.api as smf\n",
    "\n",
    "res = smf.ols(formula = 'Water_Temp_C  ~ Year + Month + Hour + Weekday', data = df_trout_105).fit()\n",
    "res.summary()\n"
   ]
  },
  {
   "cell_type": "code",
   "execution_count": 8,
   "metadata": {},
   "outputs": [
    {
     "data": {
      "text/plain": [
       "[('Jarque-Bera', 1317.4071173277887),\n",
       " ('Chi^2 two-tail prob.', 8.485535647045741e-287),\n",
       " ('Skew', -0.327083918397504),\n",
       " ('Kurtosis', 2.5826081714744804)]"
      ]
     },
     "execution_count": 8,
     "metadata": {},
     "output_type": "execute_result"
    },
    {
     "data": {
      "image/png": "[encoded data removed]",
      "text/plain": [
       "<Figure size 432x288 with 1 Axes>"
      ]
     },
     "metadata": {
      "needs_background": "light"
     },
     "output_type": "display_data"
    },
    {
     "data": {
      "image/png": "[encoded data removed]",
      "text/plain": [
       "<Figure size 432x288 with 4 Axes>"
      ]
     },
     "metadata": {
      "needs_background": "light"
     },
     "output_type": "display_data"
    }
   ],
   "source": [
    "import statsmodels.stats.api as sms\n",
    "import statsmodels.api as sm\n",
    "import scipy.stats as stats\n",
    "from statsmodels.compat import lzip\n",
    "\n",
    "#Normality assumption\n",
    "fig = sm.qqplot(res.resid,stats.t, fit=True, line=\"45\")\n",
    "\n",
    "fig = sm.graphics.plot_ccpr_grid(res)\n",
    "fig.tight_layout(pad=1.0)\n",
    "\n",
    "# Jarque-Bera test\n",
    "name = ['Jarque-Bera', 'Chi^2 two-tail prob.', 'Skew', 'Kurtosis']\n",
    "test = sms.jarque_bera(res.resid)\n",
    "lzip(name, test)\n"
   ]
  },
  {
   "cell_type": "code",
   "execution_count": 9,
   "metadata": {},
   "outputs": [
    {
     "data": {
      "text/plain": [
       "Text(0, 0.5, 'residuals')"
      ]
     },
     "execution_count": 9,
     "metadata": {},
     "output_type": "execute_result"
    },
    {
     "data": {
      "image/png": "[encoded data removed]",
      "text/plain": [
       "<Figure size 432x288 with 1 Axes>"
      ]
     },
     "metadata": {
      "needs_background": "light"
     },
     "output_type": "display_data"
    }
   ],
   "source": [
    "import matplotlib.pyplot as plt\n",
    "import matplotlib as mpl\n",
    "import random\n",
    "\n",
    "mpl.rcParams['agg.path.chunksize'] = 1000\n",
    "\n",
    "plt.scatter(res.fittedvalues.values, res.resid)\n",
    "plt.xlabel(\"y fitted\")\n",
    "plt.ylabel(\"residuals\")\n"
   ]
  },
  {
   "cell_type": "markdown",
   "metadata": {},
   "source": [
    "**Comments:**\n",
    "\n",
    "Since the time and depth are ordinal data here, it doesn't make sense to turn into one hot encoding.Keep using them as numeric value.\n",
    "\n",
    "All three variables are significant. However R squared is only 0.19. This is because the residuals of the regression violated the assumptions of normality (High jarque bera value and QQplot with heavy tails also confirmed this). We can see the residual follows a seasonal pattern with month and having heteroskedasticity with depth. Therefore a simple regression model with or without penalty term won't fit for this task.\n"
   ]
  },
  {
   "cell_type": "code",
   "execution_count": 42,
   "metadata": {},
   "outputs": [],
   "source": [
    "from sklearn.preprocessing import MinMaxScaler\n",
    "from sklearn.model_selection import train_test_split\n",
    "\n",
    "df_trout_105 = df_trout_105[['Date_Time','Water_Temp_C']]\n",
    "df_trout_105.Date_Time = pd.to_datetime(df_trout_105.Date_Time)\n",
    "df_trout_105 = df_trout_105.set_index(\"Date_Time\")\n",
    "\n",
    "train_data, test_data = train_test_split(df_trout_105,test_size = 0.2, random_state=0)\n",
    "\n",
    "scaler = MinMaxScaler()\n",
    "scaler.fit(train_data)\n",
    "scaled_train_data = scaler.transform(train_data)\n",
    "scaled_test_data = scaler.transform(test_data)\n"
   ]
  },
  {
   "cell_type": "code",
   "execution_count": 45,
   "metadata": {},
   "outputs": [
    {
     "name": "stdout",
     "output_type": "stream",
     "text": [
      "Model: \"sequential_3\"\n",
      "_________________________________________________________________\n",
      "Layer (type)                 Output Shape              Param #   \n",
      "=================================================================\n",
      "lstm_3 (LSTM)                (None, 200)               161600    \n",
      "_________________________________________________________________\n",
      "dense_3 (Dense)              (None, 1)                 201       \n",
      "=================================================================\n",
      "Total params: 161,801\n",
      "Trainable params: 161,801\n",
      "Non-trainable params: 0\n",
      "_________________________________________________________________\n"
     ]
    }
   ],
   "source": [
    "from keras.preprocessing.sequence import TimeseriesGenerator\n",
    "\n",
    "n_input = 12\n",
    "n_features= 1\n",
    "generator = TimeseriesGenerator(scaled_train_data, scaled_train_data, length=n_input, batch_size=1)\n",
    "\n",
    "from keras.models import Sequential\n",
    "from keras.layers import Dense\n",
    "from keras.layers import LSTM\n",
    "\n",
    "lstm_model = Sequential()\n",
    "lstm_model.add(LSTM(200, activation='relu', input_shape=(n_input, n_features)))\n",
    "lstm_model.add(Dense(1))\n",
    "lstm_model.compile(optimizer='adam', loss='mse')\n",
    "\n",
    "lstm_model.summary()"
   ]
  },
  {
   "cell_type": "code",
   "execution_count": null,
   "metadata": {},
   "outputs": [
    {
     "name": "stdout",
     "output_type": "stream",
     "text": [
      "Epoch 1/20\n",
      "25270/41994 [=================>............] - ETA: 6:56 - loss: 0.2177"
     ]
    }
   ],
   "source": [
    "lstm_model.fit_generator(generator,epochs=20)"
   ]
  },
  {
   "cell_type": "code",
   "execution_count": null,
   "metadata": {},
   "outputs": [],
   "source": [
    "losses_lstm = lstm_model.history.history['loss']\n",
    "plt.figure(figsize=(12,4))\n",
    "plt.xlabel(\"Epochs\")\n",
    "plt.ylabel(\"Loss\")\n",
    "plt.xticks(np.arange(0,21,1))\n",
    "plt.plot(range(len(losses_lstm)),losses_lstm);"
   ]
  }
 ],
 "metadata": {
  "kernelspec": {
   "display_name": "Python 3",
   "language": "python",
   "name": "python3"
  },
  "language_info": {
   "codemirror_mode": {
    "name": "ipython",
    "version": 3
   },
   "file_extension": ".py",
   "mimetype": "text/x-python",
   "name": "python",
   "nbconvert_exporter": "python",
   "pygments_lexer": "ipython3",
   "version": "3.8.3"
  }
 },
 "nbformat": 4,
 "nbformat_minor": 4
}
